{
 "cells": [
  {
   "cell_type": "code",
   "execution_count": 1,
   "metadata": {},
   "outputs": [],
   "source": [
    "import random\n",
    "from random import seed\n",
    "from random import choice\n",
    "# dividing the dataset to k number of folds as per constraint 1\n",
    "\n",
    "def fold_size(dataset, K):\n",
    "    avg = len(dataset) / float(K)\n",
    "    out = []\n",
    "    last = 0.0\n",
    "    while last < len(dataset):\n",
    "        out.append(dataset[int(last):int(last + avg)])\n",
    "        last += avg\n",
    "    out = sorted(out, reverse=True, key=lambda x: len(x))\n",
    "    return out"
   ]
  },
  {
   "cell_type": "code",
   "execution_count": 2,
   "metadata": {},
   "outputs": [],
   "source": [
    "def cross_validation(dataset, K):\n",
    "    # divides every uniqe integer into its own class which is then sorted\n",
    "    class_id = {}\n",
    "\n",
    "    for i in range(len(dataset)):\n",
    "        if dataset[i] in class_id:\n",
    "            class_id[dataset[i]].append(i)\n",
    "        else:\n",
    "            class_id.update({dataset[i]: [i]})\n",
    "    \n",
    "    list_tup = sorted(class_id.items(), reverse=True, key=lambda x: len(x[1]))\n",
    "    list_id = []\n",
    "    for x in list_tup:\n",
    "        list_id.append(x[1])\n",
    "    \n",
    "\n",
    "    \n",
    "    folds = fold_size(dataset, K)\n",
    "    # all the divided folds are filled with the respected indexes of the value of the dataset.\n",
    "    # pointer is made which points out the indexes at every class of the data and loads the index\n",
    "    # in the folds\n",
    "\n",
    "    for i in range(len(folds)):\n",
    "        idx_pointer = 0  # Pointer to point the begining of the value in each class.\n",
    "        for j in range(len(folds[i])):\n",
    "            if len(list_id[idx_pointer]) == 0:  # If empty list select next index.\n",
    "                for item in list_id[idx_pointer:len(list_id)] + list_id[0:idx_pointer]:\n",
    "                    if len(item) != 0:\n",
    "                        idx_pointer = list_id.index(item)\n",
    "                        break\n",
    "            \n",
    "            # randomly selecting the value as per the index in the class list\n",
    "            value = random.choice(list_id[idx_pointer])\n",
    "            list_id[idx_pointer].remove(value) \n",
    "            folds[i][j] = value\n",
    "\n",
    "            # movinng the index pointer to the next item while checking for the last item.\n",
    "            if idx_pointer == len(list_id) - 1:\n",
    "                idx_pointer = 0 \n",
    "            else:\n",
    "                idx_pointer += 1  \n",
    "\n",
    "    return folds\n"
   ]
  },
  {
   "cell_type": "code",
   "execution_count": 3,
   "metadata": {},
   "outputs": [
    {
     "output_type": "stream",
     "name": "stdout",
     "text": [
      "[[0], [], []]\n"
     ]
    }
   ],
   "source": [
    "dataset = [int(x) for x in input(\"dataset: \").split()]\n",
    "K = int(input(\"Enter the number of folds to be split: \"))\n",
    "number_folds = cross_validation(dataset, K)\n",
    "print(number_folds)\n"
   ]
  },
  {
   "cell_type": "code",
   "execution_count": 5,
   "metadata": {},
   "outputs": [
    {
     "output_type": "stream",
     "name": "stdout",
     "text": [
      "[2, 9, 1, 4, 1, 7, 7, 7, 6, 3, 1, 7, 0, 6, 6, 9, 0, 7, 4, 3]\n[[17, 2, 13, 1, 3, 9, 12], [11, 4, 14, 15, 18, 19, 16], [7, 10, 8, 0, 5, 6]]\n"
     ]
    }
   ],
   "source": [
    "from random import seed\n",
    "from random import randint\n",
    "seed(1)\n",
    "n = int(input(\"Enter the number of data in dataset: \"))\n",
    "dataset = [randint(0,9) for _ in range(n)]\n",
    "K = int(input(\"Enter the number of folds to be split: \"))\n",
    "number_folds = cross_validation(dataset, K)\n",
    "print(dataset)\n",
    "print(number_folds)"
   ]
  },
  {
   "cell_type": "code",
   "execution_count": null,
   "metadata": {},
   "outputs": [],
   "source": []
  }
 ],
 "metadata": {
  "kernelspec": {
   "name": "python383jvsc74a57bd03a7853f465984184c2db926f12cf0514f49bd82ebd08c64e7d47bb74214f72b4",
   "display_name": "Python 3.8.3 64-bit ('base': conda)"
  },
  "language_info": {
   "codemirror_mode": {
    "name": "ipython",
    "version": 3
   },
   "file_extension": ".py",
   "mimetype": "text/x-python",
   "name": "python",
   "nbconvert_exporter": "python",
   "pygments_lexer": "ipython3",
   "version": "3.8.3"
  }
 },
 "nbformat": 4,
 "nbformat_minor": 2
}