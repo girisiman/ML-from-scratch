{
  "nbformat": 4,
  "nbformat_minor": 0,
  "metadata": {
    "colab": {
      "name": "Linear_Regression_Final_Grad_Descent.ipynb",
      "provenance": []
    },
    "kernelspec": {
      "name": "python3",
      "display_name": "Python 3"
    },
    "accelerator": "GPU"
  },
  "cells": [
    {
      "cell_type": "code",
      "metadata": {
        "id": "SnCbwHjLkqBP",
        "colab_type": "code",
        "colab": {}
      },
      "source": [
        "\"\"\" Solving the Linear Regression using Least Square Method\"\"\"\n",
        "\"\"\" f(x_i ) = b + m(x_i)\"\"\"\n",
        "\"\"\" Y = XA + E ; Y = label, X = [x_i] , A = [b, m] E = [e_i] A can be solved as A = (inv(X.T * X))*(X.T *Y)\"\"\"\n",
        "\n",
        "\n",
        "class linear_regression_lsm:\n",
        "    def __init__(self, feature, label):\n",
        "        import numpy as np\n",
        "        self.X = np.expand_dims(feature, axis=0)\n",
        "        self.Y = label\n",
        "        self.n = len(feature)\n",
        "        self.b = np.random.rand(1, 1)  # initiaizing intercept\n",
        "        self.m = np.random.rand(len(feature[0]), 1)  # coefficients or slopes\n",
        "        self.s = len(feature[0])\n",
        "        self.l_r = 0.01  # learning_rate\n",
        "        self.number_iterations = 1000 # number of epochs\n",
        "\n",
        "    def linear_equation_solver(self):\n",
        "        import numpy as np\n",
        "        intercept = np.expand_dims(np.ones(self.n), axis=0)\n",
        "        X = np.transpose(self.X[0])\n",
        "        X = np.concatenate((intercept, X), axis=0)\n",
        "        ''' A = inv(X.T*X) * (X.T*Y)'''\n",
        "        a_1 = np.dot(np.transpose(X), X)\n",
        "        a_2 = np.linalg.inv(a_1)\n",
        "        a_3 = np.dot(np.transpose(X), self.Y)\n",
        "        A = np.dot(a_2, a_3)\n",
        "        self.b = np.expand_dims(A[0], axis=0)\n",
        "        self.m = A[1:]\n",
        "\n",
        "    def predictions(self):\n",
        "        import numpy as np\n",
        "        predictions = []\n",
        "        for i in range(self.n):\n",
        "            ## f(x) = mx + b\n",
        "            pred = np.dot(self.X[0][i], self.m) + self.b\n",
        "            predictions.append(pred)\n",
        "        return np.expand_dims(predictions, axis=0)\n",
        "\n",
        "    def evaluation_model_adj__rsquare(self):\n",
        "        ''' adjusted r_square metric'''\n",
        "        import numpy as np\n",
        "        predicted = self.predictions()\n",
        "        ssr = np.sum((predicted - self.Y) ** 2)\n",
        "        print('SSR is:', ssr)\n",
        "        sst = np.sum((self.Y - np.mean(self.Y)) ** 2)\n",
        "        print('SST is:', sst)\n",
        "        r2score = (1 - (float(ssr) / sst))\n",
        "        adg_r2score = 1 - (1 - r2score) * (len(self.Y) - 1) / (len(self.Y) - self.X.shape[-1] - 1)\n",
        "        print('The adjusted rsquare value : ', adg_r2score)\n",
        "\n",
        "    def evaluation_model_rmse(self):\n",
        "        ''' Evaluation based on the root mean square value'''\n",
        "        import numpy as np\n",
        "        import math\n",
        "        predicted = self.predictions()\n",
        "        mse = np.sum(np.subtract(self.Y ,predicted)**2)/(self.n*2)\n",
        "        rmse = math.sqrt(mse)\n",
        "        #print('The Root Mean Square Error : ', rmse)\n",
        "        return rmse\n",
        "\n",
        "    def calculate_gradient(self):\n",
        "        import numpy as np\n",
        "        '''calculate gradient of b or intercept(dervative of loss function w.r.t b, i.e (-2/n*(sum(prediction-real))'''\n",
        "        prediction = self.predictions()\n",
        "        grad_b = np.sum(np.subtract(prediction, self.Y)) / (self.n)\n",
        "        #rad_b = (-2*grad_b_)/(self.n)\n",
        "        ''' calculte gradient of m (i.e derivative of loss function w.r.t. m, (-2/n*(sum(x_i(prediction_i-actual_i))'''\n",
        "        grad_m = np.zeros(self.s)\n",
        "        for i in range(self.n):\n",
        "            pred_ = np.dot(self.X[0][i], self.m) + self.b\n",
        "            grad_m_ = np.subtract(pred_[0], self.Y[i]) * self.X[0][i]\n",
        "            grad_m = np.add(grad_m, grad_m_)\n",
        "        grad_m = (grad_m) / self.n\n",
        "        return grad_m, grad_b\n",
        "\n",
        "    def grad_descent(self):\n",
        "        import numpy as np\n",
        "        import matplotlib.pyplot as plt\n",
        "        print('Initial_loss: ', self.evaluation_model_rmse())\n",
        "        ''' implememt the upgrade of the gradient, i.e updated_m = grad_m - (learning_rate*grad_m) same for intercept'''\n",
        "        error = []\n",
        "        for i in range(self.number_iterations):\n",
        "            error.append(self.evaluation_model_rmse())\n",
        "            #print(error)\n",
        "            grad_m, grad_b = self.calculate_gradient()\n",
        "            self.m = self.m - (np.transpose(np.expand_dims((self.l_r * grad_m), axis=0)))\n",
        "            self.b = np.subtract(self.b, (self.l_r * grad_b))\n",
        "        plt.figure(figsize=(8, 8))\n",
        "        plt.plot(error)\n",
        "        plt.title('RMSE Error over iterration')\n",
        "        plt.show()\n",
        "        print('Final_Loss: ', self.evaluation_model_rmse())\n",
        "    def test_model(self, feature, label):\n",
        "        import numpy as np\n",
        "        import math\n",
        "        test_feature = np.expand_dims(feature, axis=0)\n",
        "        test_actual = label\n",
        "        predicted_label = []\n",
        "        for i in range(len(test_feature)):\n",
        "            pred_label = np.dot(test_feature[0][i], self.m)+self.b\n",
        "            predicted_label.append(pred_label[0][0])\n",
        "        predicted = np.expand_dims(predicted_label, axis=0)\n",
        "        mse = np.sum(np.subtract(predicted, self.Y) ** 2) / (len(test_feature))\n",
        "        rmse = math.sqrt(mse)\n",
        "        print('The RMSE Value in Test set is: ', rmse)\n",
        "        return rmse\n",
        "\n",
        "\n",
        "\n",
        "\n",
        "\n",
        "\n",
        "\n",
        "\n",
        "\n",
        "\n",
        "\n",
        "\n",
        "\n",
        "\n",
        "\n",
        "\n"
      ],
      "execution_count": 0,
      "outputs": []
    },
    {
      "cell_type": "code",
      "metadata": {
        "id": "CEyExwiLk2hD",
        "colab_type": "code",
        "colab": {}
      },
      "source": [
        "def normalize(data):\n",
        "    import numpy as np\n",
        "    import pandas as pd\n",
        "    data = data.T\n",
        "    data = np.array(data)\n",
        "    normalized_data = []\n",
        "    for values in data:\n",
        "        if np.max(values) == np.min(values):\n",
        "            continue\n",
        "        normalized_data.append((values - np.mean(values)) / (np.std(values) if np.std(values) else 1e-5))\n",
        "\n",
        "    normalized_data = pd.DataFrame(normalized_data)\n",
        "    return normalized_data.T"
      ],
      "execution_count": 0,
      "outputs": []
    },
    {
      "cell_type": "code",
      "metadata": {
        "id": "5fSsf_oek6Ny",
        "colab_type": "code",
        "outputId": "3eec76b1-4197-415f-d52d-9ff7aae4a651",
        "colab": {
          "base_uri": "https://localhost:8080/",
          "height": 199
        }
      },
      "source": [
        "import pandas as pd\n",
        "import numpy as np\n",
        "\n",
        "data_input = pd.read_csv(\"01_train.csv\")\n",
        "data_norm = normalize(data_input)\n",
        "data_input.head()"
      ],
      "execution_count": 64,
      "outputs": [
        {
          "output_type": "execute_result",
          "data": {
            "text/html": [
              "<div>\n",
              "<style scoped>\n",
              "    .dataframe tbody tr th:only-of-type {\n",
              "        vertical-align: middle;\n",
              "    }\n",
              "\n",
              "    .dataframe tbody tr th {\n",
              "        vertical-align: top;\n",
              "    }\n",
              "\n",
              "    .dataframe thead th {\n",
              "        text-align: right;\n",
              "    }\n",
              "</style>\n",
              "<table border=\"1\" class=\"dataframe\">\n",
              "  <thead>\n",
              "    <tr style=\"text-align: right;\">\n",
              "      <th></th>\n",
              "      <th>x_0</th>\n",
              "      <th>x_1</th>\n",
              "      <th>x_2</th>\n",
              "      <th>x_3</th>\n",
              "      <th>x_4</th>\n",
              "      <th>x_5</th>\n",
              "      <th>x_6</th>\n",
              "      <th>x_7</th>\n",
              "      <th>x_8</th>\n",
              "      <th>y</th>\n",
              "    </tr>\n",
              "  </thead>\n",
              "  <tbody>\n",
              "    <tr>\n",
              "      <th>0</th>\n",
              "      <td>85233</td>\n",
              "      <td>-4632083</td>\n",
              "      <td>-150007</td>\n",
              "      <td>2708106</td>\n",
              "      <td>-4238020</td>\n",
              "      <td>399254</td>\n",
              "      <td>5457842</td>\n",
              "      <td>-2458072</td>\n",
              "      <td>12547</td>\n",
              "      <td>-1084575</td>\n",
              "    </tr>\n",
              "    <tr>\n",
              "      <th>1</th>\n",
              "      <td>48080</td>\n",
              "      <td>-4049308</td>\n",
              "      <td>-620236</td>\n",
              "      <td>2363877</td>\n",
              "      <td>-3707462</td>\n",
              "      <td>-121424</td>\n",
              "      <td>5047122</td>\n",
              "      <td>-2458072</td>\n",
              "      <td>8911</td>\n",
              "      <td>-902638</td>\n",
              "    </tr>\n",
              "    <tr>\n",
              "      <th>2</th>\n",
              "      <td>81460</td>\n",
              "      <td>-3251933</td>\n",
              "      <td>-224092</td>\n",
              "      <td>1904090</td>\n",
              "      <td>-2962595</td>\n",
              "      <td>-577863</td>\n",
              "      <td>3898668</td>\n",
              "      <td>-2458072</td>\n",
              "      <td>18702</td>\n",
              "      <td>-742154</td>\n",
              "    </tr>\n",
              "    <tr>\n",
              "      <th>3</th>\n",
              "      <td>79476</td>\n",
              "      <td>-2483220</td>\n",
              "      <td>-711645</td>\n",
              "      <td>1456286</td>\n",
              "      <td>-2261447</td>\n",
              "      <td>606998</td>\n",
              "      <td>3282033</td>\n",
              "      <td>-2458072</td>\n",
              "      <td>14929</td>\n",
              "      <td>-646443</td>\n",
              "    </tr>\n",
              "    <tr>\n",
              "      <th>4</th>\n",
              "      <td>90309</td>\n",
              "      <td>-3187116</td>\n",
              "      <td>5684</td>\n",
              "      <td>1867530</td>\n",
              "      <td>-2893928</td>\n",
              "      <td>-379760</td>\n",
              "      <td>3693844</td>\n",
              "      <td>-2458072</td>\n",
              "      <td>25828</td>\n",
              "      <td>-644254</td>\n",
              "    </tr>\n",
              "  </tbody>\n",
              "</table>\n",
              "</div>"
            ],
            "text/plain": [
              "     x_0      x_1     x_2      x_3  ...      x_6      x_7    x_8        y\n",
              "0  85233 -4632083 -150007  2708106  ...  5457842 -2458072  12547 -1084575\n",
              "1  48080 -4049308 -620236  2363877  ...  5047122 -2458072   8911  -902638\n",
              "2  81460 -3251933 -224092  1904090  ...  3898668 -2458072  18702  -742154\n",
              "3  79476 -2483220 -711645  1456286  ...  3282033 -2458072  14929  -646443\n",
              "4  90309 -3187116    5684  1867530  ...  3693844 -2458072  25828  -644254\n",
              "\n",
              "[5 rows x 10 columns]"
            ]
          },
          "metadata": {
            "tags": []
          },
          "execution_count": 64
        }
      ]
    },
    {
      "cell_type": "code",
      "metadata": {
        "id": "kXnNmhfqk8rg",
        "colab_type": "code",
        "colab": {}
      },
      "source": [
        "feature = np.array(data_norm.iloc[:, :-1])\n",
        "label = np.array(data_norm.iloc[:, -1])"
      ],
      "execution_count": 0,
      "outputs": []
    },
    {
      "cell_type": "code",
      "metadata": {
        "id": "DC7pCMbBk_z6",
        "colab_type": "code",
        "colab": {}
      },
      "source": [
        "Model = linear_regression_lsm(feature, label)"
      ],
      "execution_count": 0,
      "outputs": []
    },
    {
      "cell_type": "code",
      "metadata": {
        "id": "wEl3AddNlFKX",
        "colab_type": "code",
        "outputId": "be4e5476-3a27-4b68-c2f8-9f1501cebc85",
        "colab": {
          "base_uri": "https://localhost:8080/",
          "height": 34
        }
      },
      "source": [
        "Model.evaluation_model_rmse()"
      ],
      "execution_count": 67,
      "outputs": [
        {
          "output_type": "execute_result",
          "data": {
            "text/plain": [
              "15.34191268562599"
            ]
          },
          "metadata": {
            "tags": []
          },
          "execution_count": 67
        }
      ]
    },
    {
      "cell_type": "code",
      "metadata": {
        "id": "qCTZ50KYlNfJ",
        "colab_type": "code",
        "outputId": "945a1781-193e-40f0-a924-74dc25dc63f3",
        "colab": {
          "base_uri": "https://localhost:8080/",
          "height": 534
        }
      },
      "source": [
        "Model.grad_descent()"
      ],
      "execution_count": 68,
      "outputs": [
        {
          "output_type": "stream",
          "text": [
            "Initial_loss:  15.34191268562599\n"
          ],
          "name": "stdout"
        },
        {
          "output_type": "display_data",
          "data": {
            "image/png": "[encoded data removed]",
            "text/plain": [
              "<Figure size 576x576 with 1 Axes>"
            ]
          },
          "metadata": {
            "tags": []
          }
        },
        {
          "output_type": "stream",
          "text": [
            "Final_Loss:  11.135218470009905\n"
          ],
          "name": "stdout"
        }
      ]
    },
    {
      "cell_type": "code",
      "metadata": {
        "id": "UJ65CeKjlQ24",
        "colab_type": "code",
        "outputId": "a8eeee25-1c77-4180-f761-b19fe4184522",
        "colab": {
          "base_uri": "https://localhost:8080/",
          "height": 52
        }
      },
      "source": [
        "Model.calculate_gradient()"
      ],
      "execution_count": 28,
      "outputs": [
        {
          "output_type": "execute_result",
          "data": {
            "text/plain": [
              "(array([ 0.57267625, -1.61993906,  0.76359076,  1.62120176, -1.61887426,\n",
              "        -0.21081751,  1.55721309,  0.27733679]), 10.798810104607117)"
            ]
          },
          "metadata": {
            "tags": []
          },
          "execution_count": 28
        }
      ]
    },
    {
      "cell_type": "code",
      "metadata": {
        "id": "vQgnWf-B7-Ia",
        "colab_type": "code",
        "outputId": "2f345da2-c66b-4941-8b15-c3bf4fe3aab9",
        "colab": {
          "base_uri": "https://localhost:8080/",
          "height": 199
        }
      },
      "source": [
        "test_data_input = pd.read_csv(\"01_test.csv\")\n",
        "test_data_norm = normalize(test_data_input)\n",
        "test_data_input.head()"
      ],
      "execution_count": 29,
      "outputs": [
        {
          "output_type": "execute_result",
          "data": {
            "text/html": [
              "<div>\n",
              "<style scoped>\n",
              "    .dataframe tbody tr th:only-of-type {\n",
              "        vertical-align: middle;\n",
              "    }\n",
              "\n",
              "    .dataframe tbody tr th {\n",
              "        vertical-align: top;\n",
              "    }\n",
              "\n",
              "    .dataframe thead th {\n",
              "        text-align: right;\n",
              "    }\n",
              "</style>\n",
              "<table border=\"1\" class=\"dataframe\">\n",
              "  <thead>\n",
              "    <tr style=\"text-align: right;\">\n",
              "      <th></th>\n",
              "      <th>x_0</th>\n",
              "      <th>x_1</th>\n",
              "      <th>x_2</th>\n",
              "      <th>x_3</th>\n",
              "      <th>x_4</th>\n",
              "      <th>x_5</th>\n",
              "      <th>x_6</th>\n",
              "      <th>x_7</th>\n",
              "      <th>x_8</th>\n",
              "      <th>y</th>\n",
              "    </tr>\n",
              "  </thead>\n",
              "  <tbody>\n",
              "    <tr>\n",
              "      <th>0</th>\n",
              "      <td>85588</td>\n",
              "      <td>-1063752</td>\n",
              "      <td>-670427</td>\n",
              "      <td>630693</td>\n",
              "      <td>-949014</td>\n",
              "      <td>1743492</td>\n",
              "      <td>1612197</td>\n",
              "      <td>-2458072</td>\n",
              "      <td>21784</td>\n",
              "      <td>-123504</td>\n",
              "    </tr>\n",
              "    <tr>\n",
              "      <th>1</th>\n",
              "      <td>45609</td>\n",
              "      <td>-3626175</td>\n",
              "      <td>-638024</td>\n",
              "      <td>2117203</td>\n",
              "      <td>-3299431</td>\n",
              "      <td>-2099070</td>\n",
              "      <td>4566323</td>\n",
              "      <td>-2458072</td>\n",
              "      <td>24057</td>\n",
              "      <td>-903814</td>\n",
              "    </tr>\n",
              "    <tr>\n",
              "      <th>2</th>\n",
              "      <td>101609</td>\n",
              "      <td>243870</td>\n",
              "      <td>-304785</td>\n",
              "      <td>-128466</td>\n",
              "      <td>235720</td>\n",
              "      <td>-2646416</td>\n",
              "      <td>-110933</td>\n",
              "      <td>-2458072</td>\n",
              "      <td>9161</td>\n",
              "      <td>349410</td>\n",
              "    </tr>\n",
              "    <tr>\n",
              "      <th>3</th>\n",
              "      <td>87592</td>\n",
              "      <td>-1233948</td>\n",
              "      <td>-350156</td>\n",
              "      <td>730046</td>\n",
              "      <td>-1122275</td>\n",
              "      <td>586017</td>\n",
              "      <td>1628931</td>\n",
              "      <td>-2458072</td>\n",
              "      <td>8565</td>\n",
              "      <td>-117567</td>\n",
              "    </tr>\n",
              "    <tr>\n",
              "      <th>4</th>\n",
              "      <td>88061</td>\n",
              "      <td>-114815</td>\n",
              "      <td>-443636</td>\n",
              "      <td>78556</td>\n",
              "      <td>-90402</td>\n",
              "      <td>457760</td>\n",
              "      <td>383479</td>\n",
              "      <td>-2458072</td>\n",
              "      <td>11730</td>\n",
              "      <td>210812</td>\n",
              "    </tr>\n",
              "  </tbody>\n",
              "</table>\n",
              "</div>"
            ],
            "text/plain": [
              "      x_0      x_1     x_2      x_3  ...      x_6      x_7    x_8       y\n",
              "0   85588 -1063752 -670427   630693  ...  1612197 -2458072  21784 -123504\n",
              "1   45609 -3626175 -638024  2117203  ...  4566323 -2458072  24057 -903814\n",
              "2  101609   243870 -304785  -128466  ...  -110933 -2458072   9161  349410\n",
              "3   87592 -1233948 -350156   730046  ...  1628931 -2458072   8565 -117567\n",
              "4   88061  -114815 -443636    78556  ...   383479 -2458072  11730  210812\n",
              "\n",
              "[5 rows x 10 columns]"
            ]
          },
          "metadata": {
            "tags": []
          },
          "execution_count": 29
        }
      ]
    },
    {
      "cell_type": "code",
      "metadata": {
        "id": "sbrEE_nyKoFp",
        "colab_type": "code",
        "colab": {}
      },
      "source": [
        "test_feature = np.array(test_data_norm.iloc[:, :-1])\n",
        "test_label = np.array(test_data_norm.iloc[:, -1])"
      ],
      "execution_count": 0,
      "outputs": []
    },
    {
      "cell_type": "code",
      "metadata": {
        "id": "LCt1m-oBKy9E",
        "colab_type": "code",
        "outputId": "2b84ae96-ec47-4b0f-95e3-60311c70b869",
        "colab": {
          "base_uri": "https://localhost:8080/",
          "height": 245
        }
      },
      "source": [
        "test_feature"
      ],
      "execution_count": 31,
      "outputs": [
        {
          "output_type": "execute_result",
          "data": {
            "text/plain": [
              "array([[ 0.86260195, -0.66068588, -1.29534324, ...,  1.40281846,\n",
              "         0.75451152,  0.94754675],\n",
              "       [-1.14851921, -2.05728843, -1.18195337, ..., -2.10262573,\n",
              "         2.13465864,  1.37757089],\n",
              "       [ 1.66852936,  0.05200997, -0.01582908, ..., -2.60195166,\n",
              "        -0.05052282, -1.44057231],\n",
              "       ...,\n",
              "       [-0.49305237, -0.50580195,  0.43569726, ..., -1.68940781,\n",
              "         0.47011757,  0.72808877],\n",
              "       [-1.07603052,  0.00347378,  1.03020757, ..., -0.24785375,\n",
              "        -0.08105295,  0.12249825],\n",
              "       [ 0.59855395, -0.8572326 ,  0.3634634 , ..., -0.98238869,\n",
              "         0.8249974 ,  1.52116451]])"
            ]
          },
          "metadata": {
            "tags": []
          },
          "execution_count": 31
        }
      ]
    },
    {
      "cell_type": "code",
      "metadata": {
        "id": "Sql6dLzMK0EH",
        "colab_type": "code",
        "outputId": "2489b0fe-530e-4da0-afbe-8021d9675584",
        "colab": {
          "base_uri": "https://localhost:8080/",
          "height": 52
        }
      },
      "source": [
        "Model.test_model(test_feature, test_label)"
      ],
      "execution_count": 32,
      "outputs": [
        {
          "output_type": "stream",
          "text": [
            "The RMSE Value in Test set is:  11.208789168164394\n"
          ],
          "name": "stdout"
        },
        {
          "output_type": "execute_result",
          "data": {
            "text/plain": [
              "11.208789168164394"
            ]
          },
          "metadata": {
            "tags": []
          },
          "execution_count": 32
        }
      ]
    },
    {
      "cell_type": "code",
      "metadata": {
        "id": "qnyDRJc9MIrz",
        "colab_type": "code",
        "colab": {}
      },
      "source": [
        ""
      ],
      "execution_count": 0,
      "outputs": []
    }
  ]
}